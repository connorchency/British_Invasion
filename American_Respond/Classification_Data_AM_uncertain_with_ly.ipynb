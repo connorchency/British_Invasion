{
 "cells": [
  {
   "cell_type": "code",
   "execution_count": 3,
   "metadata": {
    "collapsed": false
   },
   "outputs": [],
   "source": [
    "from bs4 import BeautifulSoup as bs\n",
    "import urllib\n",
    "import re\n",
    "import string\n",
    "import pandas as pd\n",
    "from operator import itemgetter"
   ]
  },
  {
   "cell_type": "code",
   "execution_count": 4,
   "metadata": {
    "collapsed": false
   },
   "outputs": [],
   "source": [
    "def url(artist):\n",
    "    base = \"http://www.lyricsfreak.com/\"\n",
    "    name = artist.lower().strip().translate(None, string.punctuation).split(\" \")\n",
    "    if '' in name:\n",
    "        name.remove('')\n",
    "    init = name[0][0]\n",
    "    search_name = \"+\".join(name)\n",
    "    URL = base + init + \"/\" + search_name + \"/\"\n",
    "    return URL\n",
    "\n",
    "def fetch(artist):\n",
    "    base = \"http://www.lyricsfreak.com\"\n",
    "    song_list = []\n",
    "    URL = url(artist)\n",
    "    page = urllib.urlopen(URL)\n",
    "    soup = bs(page, \"lxml\")\n",
    "    songs = soup.findAll(\"table\", attrs={\"name\": \"song\"})[0].findAll(\"tr\")\n",
    "    for s in songs:\n",
    "        for n in s.findAll(\"td\", attrs={\"class\": \"colfirst\"}):\n",
    "            name = re.sub(\" Lyrics\",\"\",n.find('a').attrs[\"title\"])\n",
    "            lyric_link = base + n.find('a').attrs[\"href\"]\n",
    "            song_list.append({name:lyric_link})\n",
    "    return song_list\n",
    "\n",
    "def fetch_all_artists(artist_list):\n",
    "    lists = {}\n",
    "    for i, artist in enumerate(artist_list):\n",
    "        # print artist\n",
    "        # print \"\\r{}%\".format(100.0*(i+1)/len(artist_list)),\n",
    "        song_list = []\n",
    "        if artist[:3].lower() == 'the':\n",
    "            try:\n",
    "                song_list = fetch(artist)\n",
    "            except IndexError:\n",
    "                pass\n",
    "            try:\n",
    "                song_list += fetch(artist[4:])\n",
    "            except IndexError:\n",
    "                pass\n",
    "        elif 'and' in artist.split(\" \"):\n",
    "            try:\n",
    "                song_list = fetch(artist)\n",
    "            except IndexError:\n",
    "                pass\n",
    "            try:\n",
    "                song_list += fetch(re.sub(' and ', ' & ', artist))\n",
    "            except IndexError:\n",
    "                pass\n",
    "        else:\n",
    "            try:\n",
    "                song_list = fetch(artist)\n",
    "            except:\n",
    "                print \"[Warning!] {}: Not Exist\".format(artist)\n",
    "        lists[artist] = song_list\n",
    "    return lists\n",
    "\n",
    "def ly_correct_url(URL):\n",
    "    # input: lyric_page_url\n",
    "    # output: lyric_correct_url\n",
    "    page = urllib.urlopen(URL)\n",
    "    soup = bs(page, 'lxml')\n",
    "    base = 'http://www.lyricsfreak.com'\n",
    "    try:\n",
    "        correct_url = base + soup.find_all('a', attrs={'class': 'lb-correct'})[0].attrs['href']\n",
    "    except IndexError:\n",
    "        correct_url = None\n",
    "    return correct_url\n",
    "\n",
    "def fetch_lyrics(URL):\n",
    "    # input: lyric_page_url\n",
    "    URL2 = ly_correct_url(URL)\n",
    "    if URL2:\n",
    "        page = urllib.urlopen(URL2)\n",
    "        soup = bs(page, 'lxml')\n",
    "        lyric_text = soup.findAll('textarea', attrs={'name': 'lyrics'})[0].text\n",
    "        return lyric_text\n",
    "    else:\n",
    "        return None\n",
    "\n",
    "def fetch_one_artist_all_lyrics(artist):\n",
    "    li =  [artist] #;print li\n",
    "    d = fetch_all_artists(li) #;print d\n",
    "    song_list = d[artist]\n",
    "    lyrics_list = {} # {name: lyrics}\n",
    "    for i, song in enumerate(song_list):\n",
    "        # print '\\r{}%'.format(100.0*(i+1)/len(song_list)),\n",
    "        name = song.keys()[0] #;print name\n",
    "        url = song.values()[0] #;print url\n",
    "        lyrics = fetch_lyrics(url)\n",
    "        lyrics_list[name] = lyrics\n",
    "    return lyrics_list\n",
    "\n",
    "def fetch_all_artists_all_lyrics(artist_list):\n",
    "    artists_songs_lyrics = {} # {artist: {song: lyrics}}\n",
    "    for i, artist in enumerate(artist_list):\n",
    "        songs_lyrics = fetch_one_artist_all_lyrics(artist)\n",
    "        artists_songs_lyrics[artist] = songs_lyrics\n",
    "        print '\\r{}%'.format(100.0*(i+1)/len(artist_list)),\n",
    "    return artists_songs_lyrics"
   ]
  },
  {
   "cell_type": "code",
   "execution_count": 8,
   "metadata": {
    "collapsed": false
   },
   "outputs": [
    {
     "name": "stdout",
     "output_type": "stream",
     "text": [
      "100.0%\n"
     ]
    }
   ],
   "source": [
    "artist = ['Sir Douglas Quintet', 'The Royal Guardsmen', 'The Buckinghams', 'The Strangeloves', 'The Byrds']\n",
    "res = fetch_all_artists_all_lyrics(artist)"
   ]
  },
  {
   "cell_type": "code",
   "execution_count": 9,
   "metadata": {
    "collapsed": false
   },
   "outputs": [
    {
     "name": "stdout",
     "output_type": "stream",
     "text": [
      "The Buckinghams 9 \b 6\n",
      "The Royal Guardsmen 5 \b 2\n",
      "The Strangeloves 4 \b 1\n",
      "The Byrds 99 \b 92\n",
      "Sir Douglas Quintet 4 \b 2\n"
     ]
    }
   ],
   "source": [
    "for k,v in res.iteritems():\n",
    "    print k, len(v), '\\b',\n",
    "    num = 0\n",
    "    for s, ly in v.iteritems():\n",
    "        if ly != u'': # Not Exist!\n",
    "            num += 1\n",
    "    print num"
   ]
  },
  {
   "cell_type": "markdown",
   "metadata": {},
   "source": [
    "<br/><br/><br/><br/><br/><br/>"
   ]
  },
  {
   "cell_type": "code",
   "execution_count": 10,
   "metadata": {
    "collapsed": true
   },
   "outputs": [],
   "source": [
    "def dict2df(ly):\n",
    "    df = pd.DataFrame(columns=['Artist', 'Song', 'Lyrics'])\n",
    "    for a in ly:\n",
    "        artist = a\n",
    "        song_list = ly[a]\n",
    "        if isinstance(song_list, dict):\n",
    "            for s in song_list:\n",
    "                song = s\n",
    "                lyrics = song_list[s]\n",
    "                record = pd.DataFrame.from_dict({'Artist': artist,\n",
    "                                                 'Song': song,\n",
    "                                                 'Lyrics': lyrics}\n",
    "                                                ,orient='index').T\n",
    "                df = df.append(record)  \n",
    "    df = df.loc[:,['Artist', 'Song', 'Lyrics']]\n",
    "    df = df.reset_index(drop=True)\n",
    "    return df"
   ]
  },
  {
   "cell_type": "code",
   "execution_count": 11,
   "metadata": {
    "collapsed": true
   },
   "outputs": [],
   "source": [
    "AM_uncertain = dict2df(res)"
   ]
  },
  {
   "cell_type": "code",
   "execution_count": 21,
   "metadata": {
    "collapsed": false
   },
   "outputs": [],
   "source": [
    "AM_uncertain_with_ly = AM_uncertain[map(lambda x: False if x==u'' else True, AM_uncertain.Lyrics)]"
   ]
  },
  {
   "cell_type": "code",
   "execution_count": 23,
   "metadata": {
    "collapsed": false
   },
   "outputs": [
    {
     "data": {
      "text/plain": [
       "103"
      ]
     },
     "execution_count": 23,
     "metadata": {},
     "output_type": "execute_result"
    }
   ],
   "source": [
    "len(AM_uncertain_with_ly)"
   ]
  },
  {
   "cell_type": "code",
   "execution_count": 24,
   "metadata": {
    "collapsed": true
   },
   "outputs": [],
   "source": [
    "AM_uncertain_with_ly.to_csv(\"AM_uncertain_with_ly.csv\",encoding='utf-8', quoting=2)"
   ]
  }
 ],
 "metadata": {
  "anaconda-cloud": {},
  "kernelspec": {
   "display_name": "Python [default]",
   "language": "python",
   "name": "python2"
  },
  "language_info": {
   "codemirror_mode": {
    "name": "ipython",
    "version": 2
   },
   "file_extension": ".py",
   "mimetype": "text/x-python",
   "name": "python",
   "nbconvert_exporter": "python",
   "pygments_lexer": "ipython2",
   "version": "2.7.12"
  }
 },
 "nbformat": 4,
 "nbformat_minor": 1
}
