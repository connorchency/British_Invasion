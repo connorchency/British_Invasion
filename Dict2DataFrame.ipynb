{
 "cells": [
  {
   "cell_type": "code",
   "execution_count": 1,
   "metadata": {
    "collapsed": true
   },
   "outputs": [],
   "source": [
    "import pandas as pd\n",
    "import cPickle as pickle"
   ]
  },
  {
   "cell_type": "code",
   "execution_count": 58,
   "metadata": {
    "collapsed": true
   },
   "outputs": [],
   "source": [
    "with open(\"../../../../Desktop/BI1_lyrics.pkl\", 'rw') as fi:\n",
    "    ly_BI1 = pickle.load(fi)\n",
    "with open(\"../../../../Desktop/BI2_lyrics.pkl\", 'rw') as fi:\n",
    "    ly_BI2 = pickle.load(fi)"
   ]
  },
  {
   "cell_type": "code",
   "execution_count": 59,
   "metadata": {
    "collapsed": false
   },
   "outputs": [],
   "source": [
    "def dict2df(ly):\n",
    "    df = pd.DataFrame(columns=['Artist', 'Song', 'Lyrics'])\n",
    "    for a in ly:\n",
    "        artist = a\n",
    "        song_list = ly[a]\n",
    "        if isinstance(song_list, dict):\n",
    "            for s in song_list:\n",
    "                song = s\n",
    "                lyrics = song_list[s]\n",
    "                record = pd.DataFrame.from_dict({'Artist': artist,\n",
    "                                                 'Song': song,\n",
    "                                                 'Lyrics': lyrics}\n",
    "                                                ,orient='index').T\n",
    "                df = df.append(record)  \n",
    "    df = df.loc[:,['Artist', 'Song', 'Lyrics']]\n",
    "    df = df.reset_index(drop=True)\n",
    "    return df"
   ]
  },
  {
   "cell_type": "code",
   "execution_count": 60,
   "metadata": {
    "collapsed": false
   },
   "outputs": [],
   "source": [
    "df_BI1 = dict2df(ly_BI1)\n",
    "df_BI2 = dict2df(ly_BI2)"
   ]
  },
  {
   "cell_type": "code",
   "execution_count": 61,
   "metadata": {
    "collapsed": false
   },
   "outputs": [
    {
     "data": {
      "text/html": [
       "<div>\n",
       "<table border=\"1\" class=\"dataframe\">\n",
       "  <thead>\n",
       "    <tr style=\"text-align: right;\">\n",
       "      <th></th>\n",
       "      <th>Artist</th>\n",
       "      <th>Song</th>\n",
       "      <th>Lyrics</th>\n",
       "    </tr>\n",
       "  </thead>\n",
       "  <tbody>\n",
       "    <tr>\n",
       "      <th>2962</th>\n",
       "      <td>Cream</td>\n",
       "      <td>Weird Of Hermiston</td>\n",
       "      <td>I'm goin' to a wedding\\rI'm going to a wedding...</td>\n",
       "    </tr>\n",
       "    <tr>\n",
       "      <th>2963</th>\n",
       "      <td>Cream</td>\n",
       "      <td>I'm So Glad</td>\n",
       "      <td>[Chorus:]\\rI'm so glad\\rI'm so glad\\rI'm glad,...</td>\n",
       "    </tr>\n",
       "    <tr>\n",
       "      <th>2964</th>\n",
       "      <td>Cream</td>\n",
       "      <td>Four Until Late</td>\n",
       "      <td>From four until late\\rI was wringing my hands ...</td>\n",
       "    </tr>\n",
       "    <tr>\n",
       "      <th>2965</th>\n",
       "      <td>Jonathan King</td>\n",
       "      <td>Everyone's Gone To The Moon</td>\n",
       "      <td>Streets full of people, all alone\\rRoads full ...</td>\n",
       "    </tr>\n",
       "    <tr>\n",
       "      <th>2966</th>\n",
       "      <td>Jonathan King</td>\n",
       "      <td>Una Paloma Blanca</td>\n",
       "      <td>When the sun shines on the mountain\\rAnd the n...</td>\n",
       "    </tr>\n",
       "  </tbody>\n",
       "</table>\n",
       "</div>"
      ],
      "text/plain": [
       "             Artist                         Song  \\\n",
       "2962          Cream           Weird Of Hermiston   \n",
       "2963          Cream                  I'm So Glad   \n",
       "2964          Cream              Four Until Late   \n",
       "2965  Jonathan King  Everyone's Gone To The Moon   \n",
       "2966  Jonathan King            Una Paloma Blanca   \n",
       "\n",
       "                                                 Lyrics  \n",
       "2962  I'm goin' to a wedding\\rI'm going to a wedding...  \n",
       "2963  [Chorus:]\\rI'm so glad\\rI'm so glad\\rI'm glad,...  \n",
       "2964  From four until late\\rI was wringing my hands ...  \n",
       "2965  Streets full of people, all alone\\rRoads full ...  \n",
       "2966  When the sun shines on the mountain\\rAnd the n...  "
      ]
     },
     "execution_count": 61,
     "metadata": {},
     "output_type": "execute_result"
    }
   ],
   "source": [
    "df_BI1.tail()"
   ]
  },
  {
   "cell_type": "code",
   "execution_count": 62,
   "metadata": {
    "collapsed": false
   },
   "outputs": [
    {
     "data": {
      "text/html": [
       "<div>\n",
       "<table border=\"1\" class=\"dataframe\">\n",
       "  <thead>\n",
       "    <tr style=\"text-align: right;\">\n",
       "      <th></th>\n",
       "      <th>Artist</th>\n",
       "      <th>Song</th>\n",
       "      <th>Lyrics</th>\n",
       "    </tr>\n",
       "  </thead>\n",
       "  <tbody>\n",
       "    <tr>\n",
       "      <th>4290</th>\n",
       "      <td>Gary Numan</td>\n",
       "      <td>We Have A Technical</td>\n",
       "      <td>We have a random on the westside\\rPersonality ...</td>\n",
       "    </tr>\n",
       "    <tr>\n",
       "      <th>4291</th>\n",
       "      <td>Gary Numan</td>\n",
       "      <td>Love Needs No Disguise</td>\n",
       "      <td>She dances\\rHe watches\\rShe sighs\\rRemember\\rL...</td>\n",
       "    </tr>\n",
       "    <tr>\n",
       "      <th>4292</th>\n",
       "      <td>Gary Numan</td>\n",
       "      <td>The Angel Wars</td>\n",
       "      <td>I won't pray here\\rOr bow my head\\rI won't pra...</td>\n",
       "    </tr>\n",
       "    <tr>\n",
       "      <th>4293</th>\n",
       "      <td>Gary Numan</td>\n",
       "      <td>The Image Is</td>\n",
       "      <td>I intrude on patience\\rI intrude on young hear...</td>\n",
       "    </tr>\n",
       "    <tr>\n",
       "      <th>4294</th>\n",
       "      <td>Gary Numan</td>\n",
       "      <td>Thoughts No. 2</td>\n",
       "      <td>Sometimes I feel\\rI live like a prisoner\\rBut ...</td>\n",
       "    </tr>\n",
       "  </tbody>\n",
       "</table>\n",
       "</div>"
      ],
      "text/plain": [
       "          Artist                    Song  \\\n",
       "4290  Gary Numan     We Have A Technical   \n",
       "4291  Gary Numan  Love Needs No Disguise   \n",
       "4292  Gary Numan          The Angel Wars   \n",
       "4293  Gary Numan            The Image Is   \n",
       "4294  Gary Numan          Thoughts No. 2   \n",
       "\n",
       "                                                 Lyrics  \n",
       "4290  We have a random on the westside\\rPersonality ...  \n",
       "4291  She dances\\rHe watches\\rShe sighs\\rRemember\\rL...  \n",
       "4292  I won't pray here\\rOr bow my head\\rI won't pra...  \n",
       "4293  I intrude on patience\\rI intrude on young hear...  \n",
       "4294  Sometimes I feel\\rI live like a prisoner\\rBut ...  "
      ]
     },
     "execution_count": 62,
     "metadata": {},
     "output_type": "execute_result"
    }
   ],
   "source": [
    "df_BI2.tail()"
   ]
  },
  {
   "cell_type": "code",
   "execution_count": 78,
   "metadata": {
    "collapsed": false
   },
   "outputs": [
    {
     "name": "stdout",
     "output_type": "stream",
     "text": [
      "2967 4295\n",
      "2733 4131\n",
      "BI1:92.11%\n",
      "BI2:96.18%\n"
     ]
    }
   ],
   "source": [
    "print len(df_BI1), len(df_BI2)\n",
    "print sum(df_BI1.Lyrics != u''), sum(df_BI2.Lyrics != u'')\n",
    "print \"BI1:{:.2f}%\".format(100.0 * sum(df_BI1.Lyrics != u'') / len(df_BI1))\n",
    "print \"BI2:{:.2f}%\".format(100.0 * sum(df_BI2.Lyrics != u'') / len(df_BI2))"
   ]
  },
  {
   "cell_type": "code",
   "execution_count": 79,
   "metadata": {
    "collapsed": true
   },
   "outputs": [],
   "source": [
    "df_BI1.to_pickle(\"BI1_lyrics_df.pkl\")\n",
    "df_BI2.to_pickle(\"BI2_lyrics_df.pkl\")"
   ]
  },
  {
   "cell_type": "code",
   "execution_count": null,
   "metadata": {
    "collapsed": true
   },
   "outputs": [],
   "source": []
  },
  {
   "cell_type": "code",
   "execution_count": 33,
   "metadata": {
    "collapsed": false
   },
   "outputs": [],
   "source": [
    "# df = pd.DataFrame(columns=['Artist', 'Song', 'Lyrics'])\n",
    "# q = pd.DataFrame.from_dict({'Artist': 1,'Song': 2, 'Lyrics': 3}, orient='index').T\n",
    "# q2 = pd.DataFrame.from_dict({'Artist': 1,'Song': 2, 'Lyrics': 3}, orient='index').T\n",
    "# aa = df.append(q2)\n",
    "# aa.reset_index(drop=True)"
   ]
  },
  {
   "cell_type": "code",
   "execution_count": 49,
   "metadata": {
    "collapsed": false
   },
   "outputs": [],
   "source": [
    "# import json\n",
    "# l = json.dumps(ly, indent=1)\n",
    "# print l"
   ]
  }
 ],
 "metadata": {
  "anaconda-cloud": {},
  "kernelspec": {
   "display_name": "Python [default]",
   "language": "python",
   "name": "python2"
  },
  "language_info": {
   "codemirror_mode": {
    "name": "ipython",
    "version": 2
   },
   "file_extension": ".py",
   "mimetype": "text/x-python",
   "name": "python",
   "nbconvert_exporter": "python",
   "pygments_lexer": "ipython2",
   "version": "2.7.12"
  }
 },
 "nbformat": 4,
 "nbformat_minor": 1
}
