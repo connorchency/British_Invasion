{
 "cells": [
  {
   "cell_type": "code",
   "execution_count": 1,
   "metadata": {
    "collapsed": true
   },
   "outputs": [],
   "source": [
    "import pandas as pd, pandasql as ps"
   ]
  },
  {
   "cell_type": "code",
   "execution_count": 2,
   "metadata": {
    "collapsed": false
   },
   "outputs": [],
   "source": [
    "lyrics = pd.read_csv(\"../Data/lyrics.csv\")\n",
    "lyrics2 = pd.read_csv(\"../Data/songdata.csv\")\n",
    "artists_1st = pd.read_csv(\"../Data/List_of_British_Invasion_artists.csv\")\n",
    "artists_2nd = pd.read_csv(\"../Data/List_of_Second_British_Invasion_artists.csv\")"
   ]
  },
  {
   "cell_type": "code",
   "execution_count": 4,
   "metadata": {
    "collapsed": false
   },
   "outputs": [],
   "source": [
    "lyrics2[[\"text\"]] = lyrics2[[\"text\"]].astype(str)\n",
    "\n",
    "q1 = 'select lyrics2.artist,song,text from lyrics2 join artists_1st on lyrics2.artist = artists_1st.artist'\n",
    "data_artists_1st = ps.sqldf(q1, globals())\n",
    "data_artists_1st.to_csv(\"Data/Songs_by_British_Invasion_artists.csv\")\n",
    "\n",
    "q2 = 'select lyrics2.artist,song,text from lyrics2 join artists_2nd on lyrics2.artist = artists_2nd.artist'\n",
    "data_artists_2nd = ps.sqldf(q2, globals())\n",
    "data_artists_2nd.to_csv(\"Data/Songs_by_Second_British_Invasion_artists.csv\")"
   ]
  }
 ],
 "metadata": {
  "kernelspec": {
   "display_name": "Python 2",
   "language": "python",
   "name": "python2"
  },
  "language_info": {
   "codemirror_mode": {
    "name": "ipython",
    "version": 2
   },
   "file_extension": ".py",
   "mimetype": "text/x-python",
   "name": "python",
   "nbconvert_exporter": "python",
   "pygments_lexer": "ipython2",
   "version": "2.7.13"
  }
 },
 "nbformat": 4,
 "nbformat_minor": 0
}
