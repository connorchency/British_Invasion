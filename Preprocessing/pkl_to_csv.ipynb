{
 "cells": [
  {
   "cell_type": "code",
   "execution_count": 1,
   "metadata": {
    "collapsed": true
   },
   "outputs": [],
   "source": [
    "import pandas as pd, cPickle as pickle\n",
    "import os"
   ]
  },
  {
   "cell_type": "code",
   "execution_count": 3,
   "metadata": {
    "collapsed": false
   },
   "outputs": [],
   "source": [
    "# Codes from 'Dict2DataFrame' notebook\n",
    "\n",
    "with open(\"Data/BI1_lyrics.pkl\", 'rw') as fi:\n",
    "    ly_BI1 = pickle.load(fi)\n",
    "with open(\"Data/BI2_lyrics.pkl\", 'rw') as fi:\n",
    "    ly_BI2 = pickle.load(fi)\n",
    "\n",
    "def dict2df(ly):\n",
    "    df = pd.DataFrame(columns=['Artist', 'Song', 'Lyrics'])\n",
    "    for a in ly:\n",
    "        artist = a\n",
    "        song_list = ly[a]\n",
    "        if isinstance(song_list, dict):\n",
    "            for s in song_list:\n",
    "                song = s\n",
    "                lyrics = song_list[s]\n",
    "                record = pd.DataFrame.from_dict({'Artist': artist,\n",
    "                                                 'Song': song,\n",
    "                                                 'Lyrics': lyrics}\n",
    "                                                ,orient='index').T\n",
    "                df = df.append(record)  \n",
    "    df = df.loc[:,['Artist', 'Song', 'Lyrics']]\n",
    "    df = df.reset_index(drop=True)\n",
    "    return df\n",
    "\n"
   ]
  },
  {
   "cell_type": "code",
   "execution_count": 5,
   "metadata": {
    "collapsed": true
   },
   "outputs": [],
   "source": [
    "df_BI1 = dict2df(ly_BI1)\n",
    "df_BI2 = dict2df(ly_BI2)"
   ]
  },
  {
   "cell_type": "code",
   "execution_count": 51,
   "metadata": {
    "collapsed": false
   },
   "outputs": [],
   "source": [
    "# to csv\n",
    "import csv\n",
    "csv.QUOTE_NONNUMERIC\n",
    "df_BI1.to_csv(\"Data/BI1_lyrics.csv\", encoding='utf-8', quoting=2)\n",
    "df_BI2.to_csv(\"Data/BI2_lyrics.csv\", encoding='utf-8', quoting=2)"
   ]
  },
  {
   "cell_type": "code",
   "execution_count": 34,
   "metadata": {
    "collapsed": false
   },
   "outputs": [
    {
     "data": {
      "text/plain": [
       "u'Where have all the flowers gone?\\rLong time passing\\rWhere have all the flowers gone?\\rLong time ago\\rWhere have all the flowers gone?\\ryoung Girls picked them every one\\rWhen will they ever learn?\\rWhen will they ever learn?\\r\\rWhere have all the young girls gone?\\rLong time passing\\rWhere have all the young girls gone?\\rLong time ago\\rWhere have all the young girls gone?\\rgone to young men every one\\rWhen will they ever learn?\\rWhen will they ever learn?\\r\\rWhere have all the young men gone?\\rLong time passing\\rWhere have all the young men gone?\\rLong time ago\\rWhere have all the young men gone?\\rGone to soldiers every one\\rWhen will they ever learn?\\rWhen will they ever learn?\\r\\rWhere have all the soldiers gone?\\rLong time passing\\rWhere have all the soldiers gone?\\rLong time ago\\rWhere have all the soldiers gone?\\rGone to graveyards every one\\rWhen will they ever learn?\\rWhen will they ever learn?\\r\\rWhere have all the graveyards gone?\\rLong time passing\\rWhere have all the graveyards gone?\\rLong time ago\\rWhere have all the graveyards gone?\\rgone to flowers every one\\rWhen will we ever learn?\\rWhen will we ever learn?'"
      ]
     },
     "execution_count": 34,
     "metadata": {},
     "output_type": "execute_result"
    }
   ],
   "source": [
    "df_BI1.iloc[18][2]"
   ]
  },
  {
   "cell_type": "code",
   "execution_count": 41,
   "metadata": {
    "collapsed": false
   },
   "outputs": [
    {
     "data": {
      "text/plain": [
       "u\"The lights In the harbor\\rDon't shine for me\\rI'm like a lost ship adrift on the sea\\rSea of heartbreak\\rLost love and loneliness\\rMemories of your caress\\rSo divine I wish you were mine\\rAgain my dear\\rI am on this sea of tears\\rSea of heartbreak\\r\\rHow did I lose you\\rOh where did I fail\\rWhy did you leave me\\rAlways to sail\\r\\rOh what I'd give to sail back to shore\\rBack to your arms once more\\r\\rCome to my rescue\\rCome here to me\\rTake me and keep me\\rAway from the sea\""
      ]
     },
     "execution_count": 41,
     "metadata": {},
     "output_type": "execute_result"
    }
   ],
   "source": [
    "df_BI1.iloc[22][2]"
   ]
  },
  {
   "cell_type": "code",
   "execution_count": 35,
   "metadata": {
    "collapsed": false
   },
   "outputs": [
    {
     "data": {
      "text/plain": [
       "u\"Love! Love! Love! Love, love, love!\\rThere ain't nothin' in this world for a boy and a girl but love, love, love\\rLove, love, love: love. love, love\\rThere ain't nothin' in this world for a boy and a girl but love, love, love\\rAnd that's the only thing I'm thinkin' of\\r\\r Love can make you happy when you're feelin' blue\\r If the one you love is in love with you\\r\\rThere ain't nothin' in this world for a boy and a girl but love, love, love\\rLove, love, love: love. love, love\\rThere ain't nothin' in this world for a boy and a girl but love, love, love\\rAnd that's the only thing I'm thinkin' of\\r\\r Love can pick you up (love can pick you up)\\r When you feel low-down (when you feel low- down)\\r Love can make you smile when you're wearin' a frown\\r\\rI want it, I need it, fill my cup with lo-ove, lo-ove, lo-ove\\rLo-ove, lo-ove, lo-ove: lo-ove, lo-ove, lo-ove\\rLet me drink till my head goes 'round and 'round with lo-ove, lo-ove, lo-ove\\rSo come and be my, be my turtle dove\""
      ]
     },
     "execution_count": 35,
     "metadata": {},
     "output_type": "execute_result"
    }
   ],
   "source": [
    "df_BI1.iloc[2][2]"
   ]
  },
  {
   "cell_type": "code",
   "execution_count": 19,
   "metadata": {
    "collapsed": true
   },
   "outputs": [],
   "source": [
    "import re"
   ]
  },
  {
   "cell_type": "code",
   "execution_count": 40,
   "metadata": {
    "collapsed": false
   },
   "outputs": [
    {
     "data": {
      "text/html": [
       "<div>\n",
       "<table border=\"1\" class=\"dataframe\">\n",
       "  <thead>\n",
       "    <tr style=\"text-align: right;\">\n",
       "      <th></th>\n",
       "      <th>Artist</th>\n",
       "      <th>Song</th>\n",
       "      <th>Lyrics</th>\n",
       "    </tr>\n",
       "  </thead>\n",
       "  <tbody>\n",
       "    <tr>\n",
       "      <th>0</th>\n",
       "      <td>The Honeycombs</td>\n",
       "      <td>Have I The Right?</td>\n",
       "      <td>Have I the right to hold you?  \\rYou know I've...</td>\n",
       "    </tr>\n",
       "    <tr>\n",
       "      <th>1</th>\n",
       "      <td>The Honeycombs</td>\n",
       "      <td>I Can't Stop</td>\n",
       "      <td></td>\n",
       "    </tr>\n",
       "    <tr>\n",
       "      <th>2</th>\n",
       "      <td>The Searchers</td>\n",
       "      <td>Love, Love, Love</td>\n",
       "      <td>Love! Love! Love! Love, love, love!\\rThere ain...</td>\n",
       "    </tr>\n",
       "    <tr>\n",
       "      <th>3</th>\n",
       "      <td>The Searchers</td>\n",
       "      <td>This Empty Place</td>\n",
       "      <td></td>\n",
       "    </tr>\n",
       "    <tr>\n",
       "      <th>4</th>\n",
       "      <td>The Searchers</td>\n",
       "      <td>Maggie May</td>\n",
       "      <td></td>\n",
       "    </tr>\n",
       "    <tr>\n",
       "      <th>5</th>\n",
       "      <td>The Searchers</td>\n",
       "      <td>Da Doo Ron Ron</td>\n",
       "      <td>I met him on a Monday and my heart stood still...</td>\n",
       "    </tr>\n",
       "    <tr>\n",
       "      <th>6</th>\n",
       "      <td>The Searchers</td>\n",
       "      <td>I Don't Want To Go Without You</td>\n",
       "      <td></td>\n",
       "    </tr>\n",
       "    <tr>\n",
       "      <th>7</th>\n",
       "      <td>The Searchers</td>\n",
       "      <td>Jambalaya</td>\n",
       "      <td>Goodbye Joe, me gotta go, me oh my oh\\rMe gott...</td>\n",
       "    </tr>\n",
       "    <tr>\n",
       "      <th>8</th>\n",
       "      <td>The Searchers</td>\n",
       "      <td>When You Walk In The Room</td>\n",
       "      <td></td>\n",
       "    </tr>\n",
       "    <tr>\n",
       "      <th>9</th>\n",
       "      <td>The Searchers</td>\n",
       "      <td>I Count The Tears</td>\n",
       "      <td></td>\n",
       "    </tr>\n",
       "    <tr>\n",
       "      <th>10</th>\n",
       "      <td>The Searchers</td>\n",
       "      <td>All My Sorrows</td>\n",
       "      <td></td>\n",
       "    </tr>\n",
       "    <tr>\n",
       "      <th>11</th>\n",
       "      <td>The Searchers</td>\n",
       "      <td>Blowin' In The Wind</td>\n",
       "      <td>How many roads most a man walk down\\rBefore yo...</td>\n",
       "    </tr>\n",
       "    <tr>\n",
       "      <th>12</th>\n",
       "      <td>The Searchers</td>\n",
       "      <td>Hollywood</td>\n",
       "      <td></td>\n",
       "    </tr>\n",
       "    <tr>\n",
       "      <th>13</th>\n",
       "      <td>The Searchers</td>\n",
       "      <td>Hey Joe</td>\n",
       "      <td>Hey Joe!\\rWhere'd ya find that pearly girlie\\r...</td>\n",
       "    </tr>\n",
       "    <tr>\n",
       "      <th>14</th>\n",
       "      <td>The Searchers</td>\n",
       "      <td>Goodbye My Love</td>\n",
       "      <td>Goodbye my love, goodbye my love \\rThough I lo...</td>\n",
       "    </tr>\n",
       "    <tr>\n",
       "      <th>15</th>\n",
       "      <td>The Searchers</td>\n",
       "      <td>Innocent Victim</td>\n",
       "      <td>Well, I can't believe all the things that I've...</td>\n",
       "    </tr>\n",
       "    <tr>\n",
       "      <th>16</th>\n",
       "      <td>The Searchers</td>\n",
       "      <td>Take It Or Leave It</td>\n",
       "      <td></td>\n",
       "    </tr>\n",
       "    <tr>\n",
       "      <th>17</th>\n",
       "      <td>The Searchers</td>\n",
       "      <td>Have You Ever Loved Somebody</td>\n",
       "      <td>You say that you want me and now that you've g...</td>\n",
       "    </tr>\n",
       "    <tr>\n",
       "      <th>18</th>\n",
       "      <td>The Searchers</td>\n",
       "      <td>Where Have All The Flowers Gone</td>\n",
       "      <td>Where have all the flowers gone?\\rLong time pa...</td>\n",
       "    </tr>\n",
       "    <tr>\n",
       "      <th>19</th>\n",
       "      <td>The Searchers</td>\n",
       "      <td>Magic Potion</td>\n",
       "      <td></td>\n",
       "    </tr>\n",
       "    <tr>\n",
       "      <th>20</th>\n",
       "      <td>The Searchers</td>\n",
       "      <td>Secondhand Dealer</td>\n",
       "      <td></td>\n",
       "    </tr>\n",
       "    <tr>\n",
       "      <th>21</th>\n",
       "      <td>The Searchers</td>\n",
       "      <td>Someday We're Gonna Love Again</td>\n",
       "      <td>Someday we're gonna love again\\rSomeday we're ...</td>\n",
       "    </tr>\n",
       "    <tr>\n",
       "      <th>22</th>\n",
       "      <td>The Searchers</td>\n",
       "      <td>Sea Of Heartbreak</td>\n",
       "      <td>The lights In the harbor\\rDon't shine for me\\r...</td>\n",
       "    </tr>\n",
       "    <tr>\n",
       "      <th>23</th>\n",
       "      <td>The Searchers</td>\n",
       "      <td>Needles &amp; Pins (New Version)</td>\n",
       "      <td></td>\n",
       "    </tr>\n",
       "    <tr>\n",
       "      <th>24</th>\n",
       "      <td>The Searchers</td>\n",
       "      <td>Don't Throw Your Love Away</td>\n",
       "      <td></td>\n",
       "    </tr>\n",
       "    <tr>\n",
       "      <th>25</th>\n",
       "      <td>The Searchers</td>\n",
       "      <td>Sugar And Spice</td>\n",
       "      <td>Sugar and spice and all things nice\\rKisses sw...</td>\n",
       "    </tr>\n",
       "    <tr>\n",
       "      <th>26</th>\n",
       "      <td>The Searchers</td>\n",
       "      <td>Spicks And The Specks</td>\n",
       "      <td></td>\n",
       "    </tr>\n",
       "    <tr>\n",
       "      <th>27</th>\n",
       "      <td>The Searchers</td>\n",
       "      <td>Twist And Shout</td>\n",
       "      <td>Well, shake it up, baby, now, (shake it up, ba...</td>\n",
       "    </tr>\n",
       "    <tr>\n",
       "      <th>28</th>\n",
       "      <td>The Searchers</td>\n",
       "      <td>Everybody Come And Clap Your Hands</td>\n",
       "      <td>Everybody come and clap your hands\\r Don't you...</td>\n",
       "    </tr>\n",
       "    <tr>\n",
       "      <th>29</th>\n",
       "      <td>The Searchers</td>\n",
       "      <td>Hungry For Love</td>\n",
       "      <td>I'm so hungry, so hungry for love\\rI'm so hung...</td>\n",
       "    </tr>\n",
       "  </tbody>\n",
       "</table>\n",
       "</div>"
      ],
      "text/plain": [
       "            Artist                                Song  \\\n",
       "0   The Honeycombs                   Have I The Right?   \n",
       "1   The Honeycombs                        I Can't Stop   \n",
       "2    The Searchers                    Love, Love, Love   \n",
       "3    The Searchers                    This Empty Place   \n",
       "4    The Searchers                          Maggie May   \n",
       "5    The Searchers                      Da Doo Ron Ron   \n",
       "6    The Searchers      I Don't Want To Go Without You   \n",
       "7    The Searchers                           Jambalaya   \n",
       "8    The Searchers           When You Walk In The Room   \n",
       "9    The Searchers                   I Count The Tears   \n",
       "10   The Searchers                      All My Sorrows   \n",
       "11   The Searchers                 Blowin' In The Wind   \n",
       "12   The Searchers                           Hollywood   \n",
       "13   The Searchers                             Hey Joe   \n",
       "14   The Searchers                     Goodbye My Love   \n",
       "15   The Searchers                     Innocent Victim   \n",
       "16   The Searchers                 Take It Or Leave It   \n",
       "17   The Searchers        Have You Ever Loved Somebody   \n",
       "18   The Searchers     Where Have All The Flowers Gone   \n",
       "19   The Searchers                        Magic Potion   \n",
       "20   The Searchers                   Secondhand Dealer   \n",
       "21   The Searchers      Someday We're Gonna Love Again   \n",
       "22   The Searchers                   Sea Of Heartbreak   \n",
       "23   The Searchers        Needles & Pins (New Version)   \n",
       "24   The Searchers          Don't Throw Your Love Away   \n",
       "25   The Searchers                     Sugar And Spice   \n",
       "26   The Searchers               Spicks And The Specks   \n",
       "27   The Searchers                     Twist And Shout   \n",
       "28   The Searchers  Everybody Come And Clap Your Hands   \n",
       "29   The Searchers                     Hungry For Love   \n",
       "\n",
       "                                               Lyrics  \n",
       "0   Have I the right to hold you?  \\rYou know I've...  \n",
       "1                                                      \n",
       "2   Love! Love! Love! Love, love, love!\\rThere ain...  \n",
       "3                                                      \n",
       "4                                                      \n",
       "5   I met him on a Monday and my heart stood still...  \n",
       "6                                                      \n",
       "7   Goodbye Joe, me gotta go, me oh my oh\\rMe gott...  \n",
       "8                                                      \n",
       "9                                                      \n",
       "10                                                     \n",
       "11  How many roads most a man walk down\\rBefore yo...  \n",
       "12                                                     \n",
       "13  Hey Joe!\\rWhere'd ya find that pearly girlie\\r...  \n",
       "14  Goodbye my love, goodbye my love \\rThough I lo...  \n",
       "15  Well, I can't believe all the things that I've...  \n",
       "16                                                     \n",
       "17  You say that you want me and now that you've g...  \n",
       "18  Where have all the flowers gone?\\rLong time pa...  \n",
       "19                                                     \n",
       "20                                                     \n",
       "21  Someday we're gonna love again\\rSomeday we're ...  \n",
       "22  The lights In the harbor\\rDon't shine for me\\r...  \n",
       "23                                                     \n",
       "24                                                     \n",
       "25  Sugar and spice and all things nice\\rKisses sw...  \n",
       "26                                                     \n",
       "27  Well, shake it up, baby, now, (shake it up, ba...  \n",
       "28  Everybody come and clap your hands\\r Don't you...  \n",
       "29  I'm so hungry, so hungry for love\\rI'm so hung...  "
      ]
     },
     "execution_count": 40,
     "metadata": {},
     "output_type": "execute_result"
    }
   ],
   "source": [
    "df_BI1.head(30)"
   ]
  },
  {
   "cell_type": "code",
   "execution_count": null,
   "metadata": {
    "collapsed": true
   },
   "outputs": [],
   "source": []
  }
 ],
 "metadata": {
  "kernelspec": {
   "display_name": "Python 2",
   "language": "python",
   "name": "python2"
  },
  "language_info": {
   "codemirror_mode": {
    "name": "ipython",
    "version": 2
   },
   "file_extension": ".py",
   "mimetype": "text/x-python",
   "name": "python",
   "nbconvert_exporter": "python",
   "pygments_lexer": "ipython2",
   "version": "2.7.13"
  }
 },
 "nbformat": 4,
 "nbformat_minor": 2
}
