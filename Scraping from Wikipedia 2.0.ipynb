{
 "cells": [
  {
   "cell_type": "code",
   "execution_count": 1,
   "metadata": {
    "collapsed": false,
    "deletable": true,
    "editable": true
   },
   "outputs": [],
   "source": [
    "from bs4 import BeautifulSoup\n",
    "import urllib, re"
   ]
  },
  {
   "cell_type": "code",
   "execution_count": 27,
   "metadata": {
    "collapsed": false,
    "deletable": true,
    "editable": true
   },
   "outputs": [],
   "source": [
    "first = urllib.urlopen('https://en.wikipedia.org/wiki/List_of_British_Invasion_artists')"
   ]
  },
  {
   "cell_type": "code",
   "execution_count": 28,
   "metadata": {
    "collapsed": false,
    "deletable": true,
    "editable": true
   },
   "outputs": [],
   "source": [
    "soup = BeautifulSoup(first, \"lxml\")"
   ]
  },
  {
   "cell_type": "code",
   "execution_count": 94,
   "metadata": {
    "collapsed": false,
    "deletable": true,
    "editable": true
   },
   "outputs": [],
   "source": [
    "# print soup.prettify()"
   ]
  },
  {
   "cell_type": "code",
   "execution_count": 85,
   "metadata": {
    "collapsed": false
   },
   "outputs": [],
   "source": [
    "l = soup.find_all('div', 'mw-content-ltr', 'ltr')[0].find_all('ul')[0].find_all('li')"
   ]
  },
  {
   "cell_type": "code",
   "execution_count": 93,
   "metadata": {
    "collapsed": false
   },
   "outputs": [],
   "source": [
    "artists = []\n",
    "for i in l:\n",
    "    if i.find_all('b'):\n",
    "        # print i.find_all('b')[0].find_all('a')[0].text\n",
    "        artists.append(i.find_all('b')[0].find_all('a')[0].text)\n",
    "    else:\n",
    "        # print i.find_all('a')[0].text\n",
    "        artists.append(i.find_all('a')[0].text)"
   ]
  },
  {
   "cell_type": "code",
   "execution_count": 95,
   "metadata": {
    "collapsed": false,
    "deletable": true,
    "editable": true
   },
   "outputs": [
    {
     "data": {
      "text/plain": [
       "[u'The Animals',\n",
       " u'The Beatles',\n",
       " u'Cilla Black',\n",
       " u'Chad & Jeremy',\n",
       " u'Cream',\n",
       " u'Dave Dee, Dozy, Beaky, Mick & Tich',\n",
       " u'The Dave Clark Five',\n",
       " u'Petula Clark',\n",
       " u'The Spencer Davis Group',\n",
       " u'Donovan',\n",
       " u'Adam Faith',\n",
       " u'Marianne Faithfull',\n",
       " u'Georgie Fame',\n",
       " u'Wayne Fontana and the Mindbenders',\n",
       " u'The Fortunes',\n",
       " u'The Fourmost',\n",
       " u'Freddie and the Dreamers',\n",
       " u'Gerry and the Pacemakers',\n",
       " u\"Herman's Hermits\",\n",
       " u'The Hollies',\n",
       " u'The Honeycombs',\n",
       " u'The Hullaballoos',\n",
       " u'The Ivy League',\n",
       " u'Tom Jones',\n",
       " u'Jonathan King',\n",
       " u'The Kinks',\n",
       " u'Billy J. Kramer & The Dakotas',\n",
       " u'Lulu',\n",
       " u'Manfred Mann',\n",
       " u'The Moody Blues',\n",
       " u'The Nashville Teens',\n",
       " u'Peter and Gordon',\n",
       " u'The Pretty Things',\n",
       " u'The Rolling Stones',\n",
       " u'The Searchers',\n",
       " u'Small Faces',\n",
       " u'Dusty Springfield',\n",
       " u'The Swinging Blue Jeans',\n",
       " u'Them',\n",
       " u'The Tremeloes',\n",
       " u'The Troggs',\n",
       " u'Ian Whitcomb',\n",
       " u'The Who',\n",
       " u'The Yardbirds',\n",
       " u'The Zombies']"
      ]
     },
     "execution_count": 95,
     "metadata": {},
     "output_type": "execute_result"
    }
   ],
   "source": [
    "artists"
   ]
  }
 ],
 "metadata": {
  "kernelspec": {
   "display_name": "Python 2",
   "language": "python",
   "name": "python2"
  },
  "language_info": {
   "codemirror_mode": {
    "name": "ipython",
    "version": 2
   },
   "file_extension": ".py",
   "mimetype": "text/x-python",
   "name": "python",
   "nbconvert_exporter": "python",
   "pygments_lexer": "ipython2",
   "version": "2.7.13"
  }
 },
 "nbformat": 4,
 "nbformat_minor": 0
}
