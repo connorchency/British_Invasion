{
 "cells": [
  {
   "cell_type": "code",
   "execution_count": 1,
   "metadata": {
    "collapsed": false,
    "deletable": true,
    "editable": true
   },
   "outputs": [],
   "source": [
    "from bs4 import BeautifulSoup\n",
    "import urllib, re, pandas as pd"
   ]
  },
  {
   "cell_type": "code",
   "execution_count": 2,
   "metadata": {
    "collapsed": false,
    "deletable": true,
    "editable": true
   },
   "outputs": [],
   "source": [
    "first = urllib.urlopen('https://en.wikipedia.org/wiki/List_of_British_Invasion_artists')"
   ]
  },
  {
   "cell_type": "code",
   "execution_count": 3,
   "metadata": {
    "collapsed": false,
    "deletable": true,
    "editable": true
   },
   "outputs": [],
   "source": [
    "soup = BeautifulSoup(first, \"lxml\")"
   ]
  },
  {
   "cell_type": "code",
   "execution_count": 4,
   "metadata": {
    "collapsed": false,
    "deletable": true,
    "editable": true
   },
   "outputs": [],
   "source": [
    "# print soup.prettify()"
   ]
  },
  {
   "cell_type": "code",
   "execution_count": 5,
   "metadata": {
    "collapsed": false
   },
   "outputs": [],
   "source": [
    "l = soup.find_all('div', 'mw-content-ltr', 'ltr')[0].find_all('ul')[0].find_all('li')"
   ]
  },
  {
   "cell_type": "code",
   "execution_count": 6,
   "metadata": {
    "collapsed": false
   },
   "outputs": [],
   "source": [
    "artists_1st = []\n",
    "for i in l:\n",
    "    if i.find_all('b'):\n",
    "        # print i.find_all('b')[0].find_all('a')[0].text\n",
    "        artists_1st.append(i.find_all('b')[0].find_all('a')[0].text)\n",
    "    else:\n",
    "        # print i.find_all('a')[0].text\n",
    "        artists_1st.append(i.find_all('a')[0].text)"
   ]
  },
  {
   "cell_type": "code",
   "execution_count": 7,
   "metadata": {
    "collapsed": false,
    "deletable": true,
    "editable": true
   },
   "outputs": [
    {
     "data": {
      "text/plain": [
       "[u'The Animals',\n",
       " u'The Beatles',\n",
       " u'Cilla Black',\n",
       " u'Chad & Jeremy',\n",
       " u'Cream',\n",
       " u'Dave Dee, Dozy, Beaky, Mick & Tich',\n",
       " u'The Dave Clark Five',\n",
       " u'Petula Clark',\n",
       " u'The Spencer Davis Group',\n",
       " u'Donovan',\n",
       " u'Adam Faith',\n",
       " u'Marianne Faithfull',\n",
       " u'Georgie Fame',\n",
       " u'Wayne Fontana and the Mindbenders',\n",
       " u'The Fortunes',\n",
       " u'The Fourmost',\n",
       " u'Freddie and the Dreamers',\n",
       " u'Gerry and the Pacemakers',\n",
       " u\"Herman's Hermits\",\n",
       " u'The Hollies',\n",
       " u'The Honeycombs',\n",
       " u'The Hullaballoos',\n",
       " u'The Ivy League',\n",
       " u'Tom Jones',\n",
       " u'Jonathan King',\n",
       " u'The Kinks',\n",
       " u'Billy J. Kramer & The Dakotas',\n",
       " u'Lulu',\n",
       " u'Manfred Mann',\n",
       " u'The Moody Blues',\n",
       " u'The Nashville Teens',\n",
       " u'Peter and Gordon',\n",
       " u'The Pretty Things',\n",
       " u'The Rolling Stones',\n",
       " u'The Searchers',\n",
       " u'Small Faces',\n",
       " u'Dusty Springfield',\n",
       " u'The Swinging Blue Jeans',\n",
       " u'Them',\n",
       " u'The Tremeloes',\n",
       " u'The Troggs',\n",
       " u'Ian Whitcomb',\n",
       " u'The Who',\n",
       " u'The Yardbirds',\n",
       " u'The Zombies']"
      ]
     },
     "execution_count": 7,
     "metadata": {},
     "output_type": "execute_result"
    }
   ],
   "source": [
    "artists_1st"
   ]
  },
  {
   "cell_type": "code",
   "execution_count": 8,
   "metadata": {
    "collapsed": true
   },
   "outputs": [],
   "source": [
    "second = urllib.urlopen('https://en.wikipedia.org/wiki/List_of_Second_British_Invasion_artists')\n",
    "soup2 = BeautifulSoup(second, \"lxml\")"
   ]
  },
  {
   "cell_type": "code",
   "execution_count": 9,
   "metadata": {
    "collapsed": false
   },
   "outputs": [],
   "source": [
    "l2 = soup2.find_all('table')[1].find_all('ul')"
   ]
  },
  {
   "cell_type": "code",
   "execution_count": 10,
   "metadata": {
    "collapsed": false
   },
   "outputs": [],
   "source": [
    "# soup2.find_all('table')[1].find_all('ul')[0].find_all('li')[0].find_all('a')[0].text\n",
    "# Result:\n",
    "# u'ABC'"
   ]
  },
  {
   "cell_type": "code",
   "execution_count": 11,
   "metadata": {
    "collapsed": false
   },
   "outputs": [],
   "source": [
    "artists_2nd = []\n",
    "for u in l2:\n",
    "    for p in u.find_all('li'):#[0].find_all('a')[0].text\n",
    "        artists_2nd.append(p.find_all('a')[0].text)\n",
    "        #print p.find_all('a')[0].text "
   ]
  },
  {
   "cell_type": "code",
   "execution_count": 12,
   "metadata": {
    "collapsed": false
   },
   "outputs": [
    {
     "data": {
      "text/plain": [
       "[u'ABC',\n",
       " u'Adam and the Ants',\n",
       " u'After the Fire',\n",
       " u'The Alarm',\n",
       " u'Bananarama',\n",
       " u'Belouis Some',\n",
       " u'Big Country',\n",
       " u'Bow Wow Wow',\n",
       " u'Elvis Costello',\n",
       " u'Culture Club',\n",
       " u'Def Leppard',\n",
       " u'Depeche Mode',\n",
       " u'Dexys Midnight Runners',\n",
       " u'Thomas Dolby',\n",
       " u'Duran Duran',\n",
       " u'The English Beat',\n",
       " u'Eurythmics',\n",
       " u'Fastway',\n",
       " u'A Flock of Seagulls',\n",
       " u'The Fixx',\n",
       " u'Frankie Goes to Hollywood',\n",
       " u'Eddy Grant',\n",
       " u'Haircut One Hundred',\n",
       " u'Heaven 17',\n",
       " u'The Human League',\n",
       " u'Billy Idol',\n",
       " u'Iron Maiden',\n",
       " u'Joe Jackson',\n",
       " u'Howard Jones',\n",
       " u'Joy Division',\n",
       " u'Kajagoogoo',\n",
       " u'Nick Lowe',\n",
       " u'Madness',\n",
       " u'Modern English',\n",
       " u'Naked Eyes',\n",
       " u'Gary Numan',\n",
       " u'Pet Shop Boys',\n",
       " u'The Police',\n",
       " u'The Pretenders',\n",
       " u'Soft Cell',\n",
       " u'Spandau Ballet',\n",
       " u'The Specials',\n",
       " u'Squeeze',\n",
       " u'The Style Council',\n",
       " u'Tears for Fears',\n",
       " u'Thompson Twins',\n",
       " u'U2',\n",
       " u'Ultravox',\n",
       " u'Visage',\n",
       " u'Wham!',\n",
       " u'Paul Young',\n",
       " u'Second British Invasion',\n",
       " u'List of British Invasion artists',\n",
       " u'Tarnished Gold: The Record Industry Revisted']"
      ]
     },
     "execution_count": 12,
     "metadata": {},
     "output_type": "execute_result"
    }
   ],
   "source": [
    "artists_2nd\n",
    "#Some weird things in the bottom but the above loop most conveniently produces the outcome we want"
   ]
  },
  {
   "cell_type": "code",
   "execution_count": 13,
   "metadata": {
    "collapsed": false
   },
   "outputs": [],
   "source": [
    "artists_2nd = artists_2nd[:-3]"
   ]
  },
  {
   "cell_type": "code",
   "execution_count": 14,
   "metadata": {
    "collapsed": false
   },
   "outputs": [],
   "source": [
    "first = pd.DataFrame({'artist': artists_1st})\n",
    "second = pd.DataFrame({'artist': artists_2nd})"
   ]
  },
  {
   "cell_type": "code",
   "execution_count": 15,
   "metadata": {
    "collapsed": false
   },
   "outputs": [],
   "source": [
    "first.to_csv('Data/List_of_British_Invasion_artists.csv')\n",
    "second.to_csv('Data/List_of_Second_British_Invasion_artists.csv')"
   ]
  }
 ],
 "metadata": {
  "kernelspec": {
   "display_name": "Python 2",
   "language": "python",
   "name": "python2"
  },
  "language_info": {
   "codemirror_mode": {
    "name": "ipython",
    "version": 2
   },
   "file_extension": ".py",
   "mimetype": "text/x-python",
   "name": "python",
   "nbconvert_exporter": "python",
   "pygments_lexer": "ipython2",
   "version": "2.7.11"
  }
 },
 "nbformat": 4,
 "nbformat_minor": 0
}
