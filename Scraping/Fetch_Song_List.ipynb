{
 "cells": [
  {
   "cell_type": "code",
   "execution_count": 275,
   "metadata": {
    "collapsed": true
   },
   "outputs": [],
   "source": [
    "from bs4 import BeautifulSoup as bs\n",
    "import urllib\n",
    "import re\n",
    "import string\n",
    "import pandas as pd\n",
    "from operator import itemgetter"
   ]
  },
  {
   "cell_type": "markdown",
   "metadata": {},
   "source": [
    "## 1. Load"
   ]
  },
  {
   "cell_type": "code",
   "execution_count": 222,
   "metadata": {
    "collapsed": false
   },
   "outputs": [
    {
     "name": "stdout",
     "output_type": "stream",
     "text": [
      "45\n",
      "51\n"
     ]
    }
   ],
   "source": [
    "bi = pd.read_csv('./British_Invasion/Data/List_of_British_Invasion_artists.csv')\n",
    "print len(bi.artist.values)\n",
    "\n",
    "bi2 = pd.read_csv('./British_Invasion/Data/List_of_Second_British_Invasion_artists.csv')\n",
    "print len(bi2.artist.values)"
   ]
  },
  {
   "cell_type": "markdown",
   "metadata": {},
   "source": [
    "## 2. Function"
   ]
  },
  {
   "cell_type": "code",
   "execution_count": 269,
   "metadata": {
    "collapsed": false
   },
   "outputs": [],
   "source": [
    "def url(artist):\n",
    "    base = \"http://www.lyricsfreak.com/\"\n",
    "    name = artist.lower().strip().translate(None, string.punctuation).split(\" \")\n",
    "    if '' in name:\n",
    "        name.remove('')\n",
    "    init = name[0][0]\n",
    "    search_name = \"+\".join(name)\n",
    "    URL = base + init + \"/\" + search_name + \"/\"\n",
    "    return URL\n",
    "\n",
    "def fetch(artist):\n",
    "    song_list = []\n",
    "    URL = url(artist)\n",
    "    page = urllib.urlopen(URL)\n",
    "    soup = bs(page, \"lxml\")\n",
    "    songs = soup.findAll(\"table\", attrs={\"name\": \"song\"})[0].findAll(\"tr\")\n",
    "    for s in songs:\n",
    "        for n in s.findAll(\"td\", attrs={\"class\": \"colfirst\"}):\n",
    "            name = re.sub(\" Lyrics\",\"\",n.find('a').attrs[\"title\"])\n",
    "            song_list.append(name)\n",
    "    return song_list\n",
    "\n",
    "def fetch_all_artists(artist_list):\n",
    "    lists = {}\n",
    "    for i, artist in enumerate(artist_list):\n",
    "        # print artist\n",
    "        print \"\\r{}%\".format(100.0*(i+1)/len(artist_list)),\n",
    "        song_list = []\n",
    "        if artist[:3].lower() == 'the':\n",
    "            try:\n",
    "                song_list = fetch(artist)\n",
    "            except IndexError:\n",
    "                pass\n",
    "            try:\n",
    "                song_list += fetch(artist[4:])\n",
    "            except IndexError:\n",
    "                pass\n",
    "        elif 'and' in artist.split(\" \"):\n",
    "            try:\n",
    "                song_list = fetch(artist)\n",
    "            except IndexError:\n",
    "                pass\n",
    "            try:\n",
    "                song_list += fetch(re.sub(' and ', ' & ', artist))\n",
    "            except IndexError:\n",
    "                pass\n",
    "        else:\n",
    "            try:\n",
    "                song_list = fetch(artist)\n",
    "            except:\n",
    "                print \"[Warning!] {}: Not Exist\".format(artist)\n",
    "        lists[artist] = song_list\n",
    "    return lists\n",
    "            "
   ]
  },
  {
   "cell_type": "markdown",
   "metadata": {},
   "source": [
    "## 3. Fetch\n",
    "### { artist : [ list of songs ] ...}"
   ]
  },
  {
   "cell_type": "code",
   "execution_count": 271,
   "metadata": {
    "collapsed": false
   },
   "outputs": [
    {
     "name": "stdout",
     "output_type": "stream",
     "text": [
      "100.0%\n"
     ]
    }
   ],
   "source": [
    "d1 = fetch_all_artists(bi.artist.values)"
   ]
  },
  {
   "cell_type": "code",
   "execution_count": 272,
   "metadata": {
    "collapsed": false
   },
   "outputs": [
    {
     "name": "stdout",
     "output_type": "stream",
     "text": [
      "45.0980392157% [Warning!] Haircut One Hundred: Not Exist\n",
      "100.0%\n"
     ]
    }
   ],
   "source": [
    "d2 = fetch_all_artists(bi2.artist.values)"
   ]
  },
  {
   "cell_type": "markdown",
   "metadata": {},
   "source": [
    "## 4. Check"
   ]
  },
  {
   "cell_type": "code",
   "execution_count": 299,
   "metadata": {
    "collapsed": false
   },
   "outputs": [],
   "source": [
    "import pylab as pl\n",
    "import seaborn as sns\n",
    "%pylab inline"
   ]
  },
  {
   "cell_type": "code",
   "execution_count": 321,
   "metadata": {
    "collapsed": false
   },
   "outputs": [
    {
     "data": {
      "image/png": "[encoded data removed]",
      "text/plain": [
       "<matplotlib.figure.Figure at 0x1177c4310>"
      ]
     },
     "metadata": {},
     "output_type": "display_data"
    }
   ],
   "source": [
    "length1 = map((lambda x: len(x)), d1.values())\n",
    "length2 = map((lambda x: len(x)), d2.values())\n",
    "f, (ax1, ax2) = pl.subplots(2, 1, figsize=(10,6))\n",
    "ax1.hist(length1, bins=20)\n",
    "ax1.set_title(\"British Invasion\")\n",
    "ax2.hist(length2, bins=20)\n",
    "ax2.set_title(\"Second British Invasion\")\n",
    "pl.show()"
   ]
  },
  {
   "cell_type": "code",
   "execution_count": 319,
   "metadata": {
    "collapsed": false
   },
   "outputs": [
    {
     "name": "stdout",
     "output_type": "stream",
     "text": [
      "British Invasion: 3169 songs\n",
      "Second British Invasion: 4463 songs\n"
     ]
    }
   ],
   "source": [
    "print \"British Invasion: {} songs\\nSecond British Invasion: {} songs\".format(sum(length1), sum(length2))"
   ]
  },
  {
   "cell_type": "code",
   "execution_count": 323,
   "metadata": {
    "collapsed": false
   },
   "outputs": [],
   "source": [
    "# for a, s in d1.iteritems():\n",
    "#     print \"{}: {}\".format(a, len(s))"
   ]
  },
  {
   "cell_type": "code",
   "execution_count": 322,
   "metadata": {
    "collapsed": false
   },
   "outputs": [],
   "source": [
    "# for a, s in d2.iteritems():\n",
    "#     print \"{}: {}\".format(a, len(s))"
   ]
  },
  {
   "cell_type": "markdown",
   "metadata": {},
   "source": [
    "## 5. Output"
   ]
  },
  {
   "cell_type": "code",
   "execution_count": 320,
   "metadata": {
    "collapsed": true
   },
   "outputs": [],
   "source": [
    "import cPickle as pickle\n",
    "with open(\"./BI_Song_List.pkl\", 'wb') as fi:\n",
    "    pickle.dump(d1, fi)\n",
    "    \n",
    "with open(\"./SBI_Song_List.pkl\", 'wb') as fi:\n",
    "    pickle.dump(d2, fi)"
   ]
  },
  {
   "cell_type": "markdown",
   "metadata": {},
   "source": [
    "<br/><br/>"
   ]
  },
  {
   "cell_type": "code",
   "execution_count": 266,
   "metadata": {
    "collapsed": true
   },
   "outputs": [],
   "source": [
    "# ['Wayne Fontana and the Mindbenders', 'Billy J. Kramer & The Dakotas', 'Dave Dee, Dozy, Beaky, Mick & Tich']\n",
    "# re.sub(' and ', ' & ', 'Wayne Fontana and the Mindbenders')\n",
    "# url('Wayne Fontana & the Mindbenders')\n",
    "# 'http://www.lyricsfreak.com/w/wayne+fontana+the+mindbenders/'"
   ]
  },
  {
   "cell_type": "code",
   "execution_count": 264,
   "metadata": {
    "collapsed": false
   },
   "outputs": [],
   "source": [
    "# fetch_all_artists(['Haircut One Hundred'])"
   ]
  },
  {
   "cell_type": "code",
   "execution_count": 218,
   "metadata": {
    "collapsed": false
   },
   "outputs": [],
   "source": [
    "# l = [\"The Who\", \"Dave Dee, Dozy, Beaky, Mick & Tich\", \n",
    "#      \"Billy J. Kramer & The Dakotas\", \"16 Horsepower\",\n",
    "#      \"The Nashville Teens\", \"The Beatles\", \"The Rolling Stones\"]\n",
    "# d = fetch_all_artists(l)\n",
    "# d['The Who']\n",
    "\n",
    "# import json\n",
    "# print(json.dumps(d, indent = 4))"
   ]
  },
  {
   "cell_type": "code",
   "execution_count": 217,
   "metadata": {
    "collapsed": true
   },
   "outputs": [],
   "source": [
    "# url(\"Dave Dee, Dozy, Beaky, Mick & Tich\")\n",
    "# url(\"Billy J. Kramer & The Dakotas\")\n",
    "# url('16 Horsepower')\n",
    "# url('The Nashville Teens')"
   ]
  },
  {
   "cell_type": "code",
   "execution_count": 73,
   "metadata": {
    "collapsed": false
   },
   "outputs": [],
   "source": [
    "# who = urllib.urlopen(\"http://www.lyricsfreak.com/w/who/\")\n",
    "# who = urllib.urlopen(\"http://www.lyricsfreak.com/w/who/\")\n",
    "# soup = bs(who, \"lxml\")\n",
    "# songs = soup.findAll(\"table\", attrs={\"name\": \"song\"})[0].findAll(\"tr\")\n",
    "# for s in songs:\n",
    "#     for n in s.findAll(\"td\", attrs={\"class\": \"colfirst\"}):\n",
    "#         name = re.sub(\"Lyrics\",\"\",n.find('a').attrs[\"title\"])\n",
    "#         print name"
   ]
  },
  {
   "cell_type": "code",
   "execution_count": 214,
   "metadata": {
    "collapsed": false
   },
   "outputs": [],
   "source": [
    "# kinks = urllib.urlopen(\"http://www.lyricsfreak.com/k/kinks/\")\n",
    "# kinks = urllib.urlopen(\"http://www.lyricsfreak.com/k/kinks/\")\n",
    "# soup = bs(kinks, \"lxml\")\n",
    "# songs = soup.findAll(\"table\", attrs={\"name\": \"song\"})[0].findAll(\"tr\")\n",
    "# for s in songs:\n",
    "#     for n in s.findAll(\"td\", attrs={\"class\": \"colfirst\"}):\n",
    "#         name = re.sub(\"Lyrics\",\"\",n.find('a').attrs[\"title\"])\n",
    "#         print name"
   ]
  }
 ],
 "metadata": {
  "kernelspec": {
   "display_name": "Python [default]",
   "language": "python",
   "name": "python2"
  },
  "language_info": {
   "codemirror_mode": {
    "name": "ipython",
    "version": 2
   },
   "file_extension": ".py",
   "mimetype": "text/x-python",
   "name": "python",
   "nbconvert_exporter": "python",
   "pygments_lexer": "ipython2",
   "version": "2.7.12"
  }
 },
 "nbformat": 4,
 "nbformat_minor": 1
}
